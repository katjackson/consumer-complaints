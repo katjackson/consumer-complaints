{
 "cells": [
  {
   "cell_type": "code",
   "execution_count": 1,
   "metadata": {
    "collapsed": true
   },
   "outputs": [],
   "source": [
    "%matplotlib inline\n",
    "\n",
    "import matplotlib.pyplot as plt\n",
    "import seaborn\n",
    "import numpy as np\n",
    "import pandas as pd\n",
    "from pandas import DataFrame, Series"
   ]
  },
  {
   "cell_type": "code",
   "execution_count": 2,
   "metadata": {
    "collapsed": false
   },
   "outputs": [],
   "source": [
    "complaints = pd.read_csv('complaints_dec_2014.csv')"
   ]
  },
  {
   "cell_type": "code",
   "execution_count": 3,
   "metadata": {
    "collapsed": false
   },
   "outputs": [],
   "source": [
    "date_series = complaints.pop('Date received')"
   ]
  },
  {
   "cell_type": "code",
   "execution_count": 4,
   "metadata": {
    "collapsed": false
   },
   "outputs": [],
   "source": [
    "complaints.index = pd.to_datetime(date_series, format='%m/%d/%Y')"
   ]
  },
  {
   "cell_type": "code",
   "execution_count": 5,
   "metadata": {
    "collapsed": false
   },
   "outputs": [
    {
     "data": {
      "text/html": [
       "<div>\n",
       "<table border=\"1\" class=\"dataframe\">\n",
       "  <thead>\n",
       "    <tr style=\"text-align: right;\">\n",
       "      <th></th>\n",
       "      <th>id</th>\n",
       "      <th>product</th>\n",
       "      <th>subproduct</th>\n",
       "      <th>issue</th>\n",
       "      <th>state</th>\n",
       "      <th>zip</th>\n",
       "      <th>company</th>\n",
       "      <th>response</th>\n",
       "      <th>disputed</th>\n",
       "    </tr>\n",
       "    <tr>\n",
       "      <th>Date received</th>\n",
       "      <th></th>\n",
       "      <th></th>\n",
       "      <th></th>\n",
       "      <th></th>\n",
       "      <th></th>\n",
       "      <th></th>\n",
       "      <th></th>\n",
       "      <th></th>\n",
       "      <th></th>\n",
       "    </tr>\n",
       "  </thead>\n",
       "  <tbody>\n",
       "    <tr>\n",
       "      <th>2014-12-31</th>\n",
       "      <td>1177167</td>\n",
       "      <td>Debt collection</td>\n",
       "      <td>NaN</td>\n",
       "      <td>Cont'd attempts collect debt not owed</td>\n",
       "      <td>TX</td>\n",
       "      <td>77068.0</td>\n",
       "      <td>Ad Astra Recovery Services Inc</td>\n",
       "      <td>Closed with explanation</td>\n",
       "      <td>NaN</td>\n",
       "    </tr>\n",
       "    <tr>\n",
       "      <th>2014-12-31</th>\n",
       "      <td>1177166</td>\n",
       "      <td>Debt collection</td>\n",
       "      <td>NaN</td>\n",
       "      <td>Cont'd attempts collect debt not owed</td>\n",
       "      <td>TX</td>\n",
       "      <td>77068.0</td>\n",
       "      <td>Unique Management Services, Inc</td>\n",
       "      <td>Closed with explanation</td>\n",
       "      <td>NaN</td>\n",
       "    </tr>\n",
       "    <tr>\n",
       "      <th>2014-12-31</th>\n",
       "      <td>1177165</td>\n",
       "      <td>Debt collection</td>\n",
       "      <td>NaN</td>\n",
       "      <td>Cont'd attempts collect debt not owed</td>\n",
       "      <td>TX</td>\n",
       "      <td>77068.0</td>\n",
       "      <td>CL Holdings, LLC</td>\n",
       "      <td>Closed with monetary relief</td>\n",
       "      <td>NaN</td>\n",
       "    </tr>\n",
       "    <tr>\n",
       "      <th>2014-12-31</th>\n",
       "      <td>1177164</td>\n",
       "      <td>Debt collection</td>\n",
       "      <td>NaN</td>\n",
       "      <td>Cont'd attempts collect debt not owed</td>\n",
       "      <td>TX</td>\n",
       "      <td>77068.0</td>\n",
       "      <td>Enhanced Recovery Company, LLC</td>\n",
       "      <td>Closed with non-monetary relief</td>\n",
       "      <td>NaN</td>\n",
       "    </tr>\n",
       "    <tr>\n",
       "      <th>2014-12-31</th>\n",
       "      <td>1177163</td>\n",
       "      <td>Debt collection</td>\n",
       "      <td>NaN</td>\n",
       "      <td>Cont'd attempts collect debt not owed</td>\n",
       "      <td>TX</td>\n",
       "      <td>77068.0</td>\n",
       "      <td>Enhanced Acquisitions, LLC</td>\n",
       "      <td>Closed with explanation</td>\n",
       "      <td>NaN</td>\n",
       "    </tr>\n",
       "  </tbody>\n",
       "</table>\n",
       "</div>"
      ],
      "text/plain": [
       "                    id          product subproduct  \\\n",
       "Date received                                        \n",
       "2014-12-31     1177167  Debt collection        NaN   \n",
       "2014-12-31     1177166  Debt collection        NaN   \n",
       "2014-12-31     1177165  Debt collection        NaN   \n",
       "2014-12-31     1177164  Debt collection        NaN   \n",
       "2014-12-31     1177163  Debt collection        NaN   \n",
       "\n",
       "                                               issue state      zip  \\\n",
       "Date received                                                         \n",
       "2014-12-31     Cont'd attempts collect debt not owed    TX  77068.0   \n",
       "2014-12-31     Cont'd attempts collect debt not owed    TX  77068.0   \n",
       "2014-12-31     Cont'd attempts collect debt not owed    TX  77068.0   \n",
       "2014-12-31     Cont'd attempts collect debt not owed    TX  77068.0   \n",
       "2014-12-31     Cont'd attempts collect debt not owed    TX  77068.0   \n",
       "\n",
       "                                       company  \\\n",
       "Date received                                    \n",
       "2014-12-31      Ad Astra Recovery Services Inc   \n",
       "2014-12-31     Unique Management Services, Inc   \n",
       "2014-12-31                    CL Holdings, LLC   \n",
       "2014-12-31      Enhanced Recovery Company, LLC   \n",
       "2014-12-31          Enhanced Acquisitions, LLC   \n",
       "\n",
       "                                      response disputed  \n",
       "Date received                                            \n",
       "2014-12-31             Closed with explanation      NaN  \n",
       "2014-12-31             Closed with explanation      NaN  \n",
       "2014-12-31         Closed with monetary relief      NaN  \n",
       "2014-12-31     Closed with non-monetary relief      NaN  \n",
       "2014-12-31             Closed with explanation      NaN  "
      ]
     },
     "execution_count": 5,
     "metadata": {},
     "output_type": "execute_result"
    }
   ],
   "source": [
    "complaints = complaints[['Complaint ID', 'Product', 'Sub-product', 'Issue', 'State', 'ZIP code', 'Company', 'Company response', 'Consumer disputed?']].copy()\n",
    "complaints = complaints.rename(columns={'Complaint ID': 'id', 'Product': 'product', 'Sub-product': 'subproduct', 'Issue': 'issue', 'State': 'state', 'ZIP code': 'zip', 'Company': 'company', 'Company response': 'response', 'Consumer disputed?': 'disputed'})\n",
    "complaints.head()"
   ]
  },
  {
   "cell_type": "code",
   "execution_count": 8,
   "metadata": {
    "collapsed": false
   },
   "outputs": [
    {
     "name": "stdout",
     "output_type": "stream",
     "text": [
      "Bank of America    766\n",
      "Equifax            737\n",
      "Experian           675\n",
      "TransUnion         604\n",
      "Wells Fargo        598\n",
      "Name: company, dtype: int64\n"
     ]
    },
    {
     "data": {
      "image/png": "[encoded data removed]",
      "text/plain": [
       "<matplotlib.figure.Figure at 0x10bbd8a90>"
      ]
     },
     "metadata": {},
     "output_type": "display_data"
    }
   ],
   "source": [
    "company = complaints['company'].value_counts()\n",
    "company = company[:10]\n",
    "print(company.head())\n",
    "company.plot(kind='bar')\n",
    "plt.show()"
   ]
  },
  {
   "cell_type": "code",
   "execution_count": 7,
   "metadata": {
    "collapsed": false
   },
   "outputs": [
    {
     "data": {
      "text/plain": [
       "Conventional fixed mortgage               1029\n",
       "Other mortgage                             961\n",
       "Checking account                           793\n",
       "Other (phone, health club, etc.)           793\n",
       "Credit card                                542\n",
       "Medical                                    400\n",
       "Non-federal student loan                   392\n",
       "Conventional adjustable mortgage (ARM)     368\n",
       "FHA mortgage                               366\n",
       "Vehicle loan                               318\n",
       "Other bank product/service                 225\n",
       "Installment loan                           181\n",
       "Payday loan                                164\n",
       "Home equity loan or line of credit         159\n",
       "Mortgage                                   109\n",
       "VA mortgage                                 90\n",
       "Savings account                             69\n",
       "Auto                                        63\n",
       "International money transfer                57\n",
       "Domestic (US) money transfer                50\n",
       "Vehicle lease                               47\n",
       "Federal student loan                        37\n",
       "(CD) Certificate of deposit                 36\n",
       "Reverse mortgage                            29\n",
       "General purpose card                        28\n",
       "Personal line of credit                     17\n",
       "Cashing a check without an account          13\n",
       "Title loan                                  12\n",
       "Mobile wallet                                9\n",
       "Government benefit payment card              8\n",
       "Check cashing                                6\n",
       "Gift or merchant card                        6\n",
       "Other special purpose card                   6\n",
       "Payroll card                                 5\n",
       "ID prepaid card                              5\n",
       "Transit card                                 3\n",
       "Traveler's/Cashier's checks                  3\n",
       "Pawn loan                                    3\n",
       "Debt settlement                              2\n",
       "Foreign currency exchange                    1\n",
       "Refund anticipation check                    1\n",
       "Credit repair                                1\n",
       "Name: subproduct, dtype: int64"
      ]
     },
     "execution_count": 7,
     "metadata": {},
     "output_type": "execute_result"
    }
   ],
   "source": [
    "complaints['state'].value_counts()\n",
    "complaints['subproduct'].value_counts()"
   ]
  },
  {
   "cell_type": "code",
   "execution_count": null,
   "metadata": {
    "collapsed": false
   },
   "outputs": [],
   "source": []
  },
  {
   "cell_type": "code",
   "execution_count": null,
   "metadata": {
    "collapsed": true
   },
   "outputs": [],
   "source": []
  },
  {
   "cell_type": "code",
   "execution_count": null,
   "metadata": {
    "collapsed": true
   },
   "outputs": [],
   "source": []
  },
  {
   "cell_type": "code",
   "execution_count": null,
   "metadata": {
    "collapsed": true
   },
   "outputs": [],
   "source": []
  }
 ],
 "metadata": {
  "kernelspec": {
   "display_name": "Python 3",
   "language": "python",
   "name": "python3"
  },
  "language_info": {
   "codemirror_mode": {
    "name": "ipython",
    "version": 3
   },
   "file_extension": ".py",
   "mimetype": "text/x-python",
   "name": "python",
   "nbconvert_exporter": "python",
   "pygments_lexer": "ipython3",
   "version": "3.5.1"
  }
 },
 "nbformat": 4,
 "nbformat_minor": 0
}
